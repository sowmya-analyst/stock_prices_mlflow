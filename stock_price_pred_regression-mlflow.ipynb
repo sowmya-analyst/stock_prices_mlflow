{
 "cells": [
  {
   "cell_type": "markdown",
   "id": "b5f9a5da",
   "metadata": {},
   "source": [
    "### Tesla Stock Price Prediction by regression"
   ]
  },
  {
   "cell_type": "code",
   "execution_count": 42,
   "id": "6be5d34d",
   "metadata": {},
   "outputs": [],
   "source": [
    "import pandas as pd\n",
    "import numpy as np\n",
    "\n",
    "import warnings\n",
    "warnings.filterwarnings(\"ignore\")"
   ]
  },
  {
   "cell_type": "code",
   "execution_count": 43,
   "id": "5fb64d2d",
   "metadata": {},
   "outputs": [],
   "source": [
    "from sklearn.model_selection import train_test_split\n",
    "from sklearn.preprocessing import StandardScaler\n",
    "from sklearn.metrics import mean_squared_error , r2_score ,roc_curve, auc ,classification_report\n",
    "from sklearn.pipeline import Pipeline  \n",
    "from sklearn.ensemble import RandomForestRegressor\n",
    "from xgboost import XGBRegressor\n",
    "from sklearn.linear_model import Lasso ,Ridge ,LassoCV,RidgeCV , LinearRegression\n",
    "from statsmodels.stats.outliers_influence import variance_inflation_factor\n",
    "from sklearn.preprocessing import PolynomialFeatures\n",
    "\n",
    "from matplotlib import pyplot as plt \n",
    "import seaborn as sns"
   ]
  },
  {
   "cell_type": "code",
   "execution_count": 44,
   "id": "728c4792",
   "metadata": {},
   "outputs": [
    {
     "name": "stdout",
     "output_type": "stream",
     "text": [
      "(1692, 7)\n"
     ]
    },
    {
     "data": {
      "text/html": [
       "<div>\n",
       "<style scoped>\n",
       "    .dataframe tbody tr th:only-of-type {\n",
       "        vertical-align: middle;\n",
       "    }\n",
       "\n",
       "    .dataframe tbody tr th {\n",
       "        vertical-align: top;\n",
       "    }\n",
       "\n",
       "    .dataframe thead th {\n",
       "        text-align: right;\n",
       "    }\n",
       "</style>\n",
       "<table border=\"1\" class=\"dataframe\">\n",
       "  <thead>\n",
       "    <tr style=\"text-align: right;\">\n",
       "      <th></th>\n",
       "      <th>Date</th>\n",
       "      <th>Open</th>\n",
       "      <th>High</th>\n",
       "      <th>Low</th>\n",
       "      <th>Close</th>\n",
       "      <th>Volume</th>\n",
       "      <th>Adj Close</th>\n",
       "    </tr>\n",
       "  </thead>\n",
       "  <tbody>\n",
       "    <tr>\n",
       "      <th>0</th>\n",
       "      <td>6/29/2010</td>\n",
       "      <td>19.000000</td>\n",
       "      <td>25.00</td>\n",
       "      <td>17.540001</td>\n",
       "      <td>23.889999</td>\n",
       "      <td>18766300</td>\n",
       "      <td>23.889999</td>\n",
       "    </tr>\n",
       "    <tr>\n",
       "      <th>1</th>\n",
       "      <td>6/30/2010</td>\n",
       "      <td>25.790001</td>\n",
       "      <td>30.42</td>\n",
       "      <td>23.299999</td>\n",
       "      <td>23.830000</td>\n",
       "      <td>17187100</td>\n",
       "      <td>23.830000</td>\n",
       "    </tr>\n",
       "    <tr>\n",
       "      <th>2</th>\n",
       "      <td>7/1/2010</td>\n",
       "      <td>25.000000</td>\n",
       "      <td>25.92</td>\n",
       "      <td>20.270000</td>\n",
       "      <td>21.959999</td>\n",
       "      <td>8218800</td>\n",
       "      <td>21.959999</td>\n",
       "    </tr>\n",
       "    <tr>\n",
       "      <th>3</th>\n",
       "      <td>7/2/2010</td>\n",
       "      <td>23.000000</td>\n",
       "      <td>23.10</td>\n",
       "      <td>18.709999</td>\n",
       "      <td>19.200001</td>\n",
       "      <td>5139800</td>\n",
       "      <td>19.200001</td>\n",
       "    </tr>\n",
       "    <tr>\n",
       "      <th>4</th>\n",
       "      <td>7/6/2010</td>\n",
       "      <td>20.000000</td>\n",
       "      <td>20.00</td>\n",
       "      <td>15.830000</td>\n",
       "      <td>16.110001</td>\n",
       "      <td>6866900</td>\n",
       "      <td>16.110001</td>\n",
       "    </tr>\n",
       "  </tbody>\n",
       "</table>\n",
       "</div>"
      ],
      "text/plain": [
       "        Date       Open   High        Low      Close    Volume  Adj Close\n",
       "0  6/29/2010  19.000000  25.00  17.540001  23.889999  18766300  23.889999\n",
       "1  6/30/2010  25.790001  30.42  23.299999  23.830000  17187100  23.830000\n",
       "2   7/1/2010  25.000000  25.92  20.270000  21.959999   8218800  21.959999\n",
       "3   7/2/2010  23.000000  23.10  18.709999  19.200001   5139800  19.200001\n",
       "4   7/6/2010  20.000000  20.00  15.830000  16.110001   6866900  16.110001"
      ]
     },
     "execution_count": 44,
     "metadata": {},
     "output_type": "execute_result"
    }
   ],
   "source": [
    "df = pd.read_csv(\"Tesla stock  price prediction.csv\")\n",
    "print(df.shape)\n",
    "df.head()"
   ]
  },
  {
   "cell_type": "code",
   "execution_count": 45,
   "id": "0cdd46be",
   "metadata": {},
   "outputs": [
    {
     "data": {
      "text/plain": [
       "Date         datetime64[ns]\n",
       "Open                float64\n",
       "High                float64\n",
       "Low                 float64\n",
       "Close               float64\n",
       "Volume                int64\n",
       "Adj Close           float64\n",
       "dtype: object"
      ]
     },
     "execution_count": 45,
     "metadata": {},
     "output_type": "execute_result"
    }
   ],
   "source": [
    "df['Date'] = pd.to_datetime(df['Date'],format='%m/%d/%Y')\n",
    "df.dtypes"
   ]
  },
  {
   "cell_type": "markdown",
   "id": "1ff044fc",
   "metadata": {},
   "source": [
    "If we observe carefully we can see that the data in the 'Close' column and that available in the 'Adj Close' column is the same let's check whether this is the case with each row or not."
   ]
  },
  {
   "cell_type": "code",
   "execution_count": 46,
   "id": "197b85f4",
   "metadata": {},
   "outputs": [
    {
     "data": {
      "text/plain": [
       "(1692, 7)"
      ]
     },
     "execution_count": 46,
     "metadata": {},
     "output_type": "execute_result"
    }
   ],
   "source": [
    "df[df['Close'] == df['Adj Close']].shape"
   ]
  },
  {
   "cell_type": "code",
   "execution_count": 47,
   "id": "f1c2d16b",
   "metadata": {},
   "outputs": [],
   "source": [
    "df.drop('Adj Close',axis=1,inplace=True)"
   ]
  },
  {
   "cell_type": "code",
   "execution_count": 48,
   "id": "806d50f2",
   "metadata": {},
   "outputs": [
    {
     "data": {
      "text/plain": [
       "Index(['Date', 'Open', 'High', 'Low', 'Close', 'Volume'], dtype='object')"
      ]
     },
     "execution_count": 48,
     "metadata": {},
     "output_type": "execute_result"
    }
   ],
   "source": [
    "df.columns"
   ]
  },
  {
   "cell_type": "markdown",
   "id": "cd5917f6",
   "metadata": {},
   "source": [
    "### Feature Engineering"
   ]
  },
  {
   "cell_type": "code",
   "execution_count": 49,
   "id": "b7e82f8a",
   "metadata": {},
   "outputs": [],
   "source": [
    "df['year'] = df['Date'].dt.year\n",
    "df['month'] = df['Date'].dt.month\n",
    "df['day'] = df['Date'].dt.day\n",
    "df['Isweekend'] = (df['Date'].dt.dayofweek >=5).astype(int)"
   ]
  },
  {
   "cell_type": "code",
   "execution_count": 50,
   "id": "68be14d2",
   "metadata": {},
   "outputs": [],
   "source": [
    "df['past_3_days_avg_price'] = df['Close'].rolling(window=3).mean()\n",
    "\n",
    "# the average of the past 3 days including the current day.\n",
    "\n",
    "# df['target'] = df['Close'].shift(1).rolling(window=3).mean()\n",
    "# the average of the 3 days before today (i.e., excluding today)"
   ]
  },
  {
   "cell_type": "code",
   "execution_count": 51,
   "id": "6790d1f4",
   "metadata": {},
   "outputs": [],
   "source": [
    "df['is_quarter_end'] = np.where(df['month']%3 ==0,  1 , 0)\n",
    "\n",
    "# The quarter end months are March, June, Sept, and Dec ie; 3, 6, 9, 12 \n",
    "# ie; last months in 4 quarters as financial year is divided into 4 quarters\n"
   ]
  },
  {
   "cell_type": "code",
   "execution_count": 52,
   "id": "46edd03e",
   "metadata": {},
   "outputs": [
    {
     "data": {
      "text/plain": [
       "Index(['Date', 'Open', 'High', 'Low', 'Close', 'Volume', 'year', 'month',\n",
       "       'day', 'Isweekend', 'past_3_days_avg_price', 'is_quarter_end'],\n",
       "      dtype='object')"
      ]
     },
     "execution_count": 52,
     "metadata": {},
     "output_type": "execute_result"
    }
   ],
   "source": [
    "df.columns"
   ]
  },
  {
   "cell_type": "code",
   "execution_count": 53,
   "id": "c50e4498",
   "metadata": {},
   "outputs": [
    {
     "data": {
      "text/html": [
       "<div>\n",
       "<style scoped>\n",
       "    .dataframe tbody tr th:only-of-type {\n",
       "        vertical-align: middle;\n",
       "    }\n",
       "\n",
       "    .dataframe tbody tr th {\n",
       "        vertical-align: top;\n",
       "    }\n",
       "\n",
       "    .dataframe thead th {\n",
       "        text-align: right;\n",
       "    }\n",
       "</style>\n",
       "<table border=\"1\" class=\"dataframe\">\n",
       "  <thead>\n",
       "    <tr style=\"text-align: right;\">\n",
       "      <th></th>\n",
       "      <th>Open</th>\n",
       "      <th>High</th>\n",
       "      <th>Low</th>\n",
       "      <th>Close</th>\n",
       "      <th>Volume</th>\n",
       "    </tr>\n",
       "    <tr>\n",
       "      <th>is_quarter_end</th>\n",
       "      <th></th>\n",
       "      <th></th>\n",
       "      <th></th>\n",
       "      <th></th>\n",
       "      <th></th>\n",
       "    </tr>\n",
       "  </thead>\n",
       "  <tbody>\n",
       "    <tr>\n",
       "      <th>0</th>\n",
       "      <td>130.813739</td>\n",
       "      <td>133.182620</td>\n",
       "      <td>128.257229</td>\n",
       "      <td>130.797709</td>\n",
       "      <td>4.461581e+06</td>\n",
       "    </tr>\n",
       "    <tr>\n",
       "      <th>1</th>\n",
       "      <td>135.679982</td>\n",
       "      <td>137.927032</td>\n",
       "      <td>133.455777</td>\n",
       "      <td>135.673269</td>\n",
       "      <td>3.891084e+06</td>\n",
       "    </tr>\n",
       "  </tbody>\n",
       "</table>\n",
       "</div>"
      ],
      "text/plain": [
       "                      Open        High         Low       Close        Volume\n",
       "is_quarter_end                                                              \n",
       "0               130.813739  133.182620  128.257229  130.797709  4.461581e+06\n",
       "1               135.679982  137.927032  133.455777  135.673269  3.891084e+06"
      ]
     },
     "execution_count": 53,
     "metadata": {},
     "output_type": "execute_result"
    }
   ],
   "source": [
    "df.groupby('is_quarter_end')[['Open', 'High', 'Low', 'Close', 'Volume']].mean()"
   ]
  },
  {
   "cell_type": "markdown",
   "id": "da984d4f",
   "metadata": {},
   "source": [
    "Here are some of the important observations of the above-grouped data:\n",
    "- Prices are higher in the months which are quarter end as compared to that of the non-quarter end months.\n",
    "- The volume of trades is lower [Less trading(ie;buying or selling)activity overall ] in the months which are quarter end."
   ]
  },
  {
   "cell_type": "code",
   "execution_count": 54,
   "id": "2b72ff96",
   "metadata": {},
   "outputs": [],
   "source": [
    "df['target'] = df['Close'].shift(-1)    # Target (predict next day's close)\n",
    "\n",
    "#This sets the next day's closing price as the target \n",
    "# (i.e., we're trying to predict the closing price for the next day).\n"
   ]
  },
  {
   "cell_type": "code",
   "execution_count": 55,
   "id": "ac8d0b51",
   "metadata": {},
   "outputs": [
    {
     "data": {
      "text/html": [
       "<div>\n",
       "<style scoped>\n",
       "    .dataframe tbody tr th:only-of-type {\n",
       "        vertical-align: middle;\n",
       "    }\n",
       "\n",
       "    .dataframe tbody tr th {\n",
       "        vertical-align: top;\n",
       "    }\n",
       "\n",
       "    .dataframe thead th {\n",
       "        text-align: right;\n",
       "    }\n",
       "</style>\n",
       "<table border=\"1\" class=\"dataframe\">\n",
       "  <thead>\n",
       "    <tr style=\"text-align: right;\">\n",
       "      <th></th>\n",
       "      <th>Date</th>\n",
       "      <th>Open</th>\n",
       "      <th>High</th>\n",
       "      <th>Low</th>\n",
       "      <th>Close</th>\n",
       "      <th>Volume</th>\n",
       "      <th>year</th>\n",
       "      <th>month</th>\n",
       "      <th>day</th>\n",
       "      <th>Isweekend</th>\n",
       "      <th>past_3_days_avg_price</th>\n",
       "      <th>is_quarter_end</th>\n",
       "      <th>target</th>\n",
       "    </tr>\n",
       "  </thead>\n",
       "  <tbody>\n",
       "    <tr>\n",
       "      <th>0</th>\n",
       "      <td>2010-07-01</td>\n",
       "      <td>25.000000</td>\n",
       "      <td>25.920000</td>\n",
       "      <td>20.270000</td>\n",
       "      <td>21.959999</td>\n",
       "      <td>8218800</td>\n",
       "      <td>2010</td>\n",
       "      <td>7</td>\n",
       "      <td>1</td>\n",
       "      <td>0</td>\n",
       "      <td>23.226666</td>\n",
       "      <td>0</td>\n",
       "      <td>19.200001</td>\n",
       "    </tr>\n",
       "    <tr>\n",
       "      <th>1</th>\n",
       "      <td>2010-07-02</td>\n",
       "      <td>23.000000</td>\n",
       "      <td>23.100000</td>\n",
       "      <td>18.709999</td>\n",
       "      <td>19.200001</td>\n",
       "      <td>5139800</td>\n",
       "      <td>2010</td>\n",
       "      <td>7</td>\n",
       "      <td>2</td>\n",
       "      <td>0</td>\n",
       "      <td>21.663333</td>\n",
       "      <td>0</td>\n",
       "      <td>16.110001</td>\n",
       "    </tr>\n",
       "    <tr>\n",
       "      <th>2</th>\n",
       "      <td>2010-07-06</td>\n",
       "      <td>20.000000</td>\n",
       "      <td>20.000000</td>\n",
       "      <td>15.830000</td>\n",
       "      <td>16.110001</td>\n",
       "      <td>6866900</td>\n",
       "      <td>2010</td>\n",
       "      <td>7</td>\n",
       "      <td>6</td>\n",
       "      <td>0</td>\n",
       "      <td>19.090000</td>\n",
       "      <td>0</td>\n",
       "      <td>15.800000</td>\n",
       "    </tr>\n",
       "    <tr>\n",
       "      <th>3</th>\n",
       "      <td>2010-07-07</td>\n",
       "      <td>16.400000</td>\n",
       "      <td>16.629999</td>\n",
       "      <td>14.980000</td>\n",
       "      <td>15.800000</td>\n",
       "      <td>6921700</td>\n",
       "      <td>2010</td>\n",
       "      <td>7</td>\n",
       "      <td>7</td>\n",
       "      <td>0</td>\n",
       "      <td>17.036667</td>\n",
       "      <td>0</td>\n",
       "      <td>17.459999</td>\n",
       "    </tr>\n",
       "    <tr>\n",
       "      <th>4</th>\n",
       "      <td>2010-07-08</td>\n",
       "      <td>16.139999</td>\n",
       "      <td>17.520000</td>\n",
       "      <td>15.570000</td>\n",
       "      <td>17.459999</td>\n",
       "      <td>7711400</td>\n",
       "      <td>2010</td>\n",
       "      <td>7</td>\n",
       "      <td>8</td>\n",
       "      <td>0</td>\n",
       "      <td>16.456667</td>\n",
       "      <td>0</td>\n",
       "      <td>17.400000</td>\n",
       "    </tr>\n",
       "  </tbody>\n",
       "</table>\n",
       "</div>"
      ],
      "text/plain": [
       "        Date       Open       High        Low      Close   Volume  year  \\\n",
       "0 2010-07-01  25.000000  25.920000  20.270000  21.959999  8218800  2010   \n",
       "1 2010-07-02  23.000000  23.100000  18.709999  19.200001  5139800  2010   \n",
       "2 2010-07-06  20.000000  20.000000  15.830000  16.110001  6866900  2010   \n",
       "3 2010-07-07  16.400000  16.629999  14.980000  15.800000  6921700  2010   \n",
       "4 2010-07-08  16.139999  17.520000  15.570000  17.459999  7711400  2010   \n",
       "\n",
       "   month  day  Isweekend  past_3_days_avg_price  is_quarter_end     target  \n",
       "0      7    1          0              23.226666               0  19.200001  \n",
       "1      7    2          0              21.663333               0  16.110001  \n",
       "2      7    6          0              19.090000               0  15.800000  \n",
       "3      7    7          0              17.036667               0  17.459999  \n",
       "4      7    8          0              16.456667               0  17.400000  "
      ]
     },
     "execution_count": 55,
     "metadata": {},
     "output_type": "execute_result"
    }
   ],
   "source": [
    "df = df.dropna().reset_index(drop='index')\n",
    "df.head()"
   ]
  },
  {
   "cell_type": "markdown",
   "id": "4aadc050",
   "metadata": {},
   "source": [
    "Data Splitting and Normalization"
   ]
  },
  {
   "cell_type": "code",
   "execution_count": 56,
   "id": "b4dceb7c",
   "metadata": {},
   "outputs": [],
   "source": [
    "X = df[['Open', 'High','Low','Volume','is_quarter_end','past_3_days_avg_price']]\n",
    "y = df['Close'].shift(-1)\n",
    "\n",
    "X_train ,X_test, y_train, y_test =train_test_split(X , y, test_size=0.20,random_state=42)"
   ]
  },
  {
   "cell_type": "code",
   "execution_count": 57,
   "id": "81ae002e",
   "metadata": {},
   "outputs": [
    {
     "data": {
      "text/plain": [
       "(1, 0, 0, 0)"
      ]
     },
     "execution_count": 57,
     "metadata": {},
     "output_type": "execute_result"
    }
   ],
   "source": [
    "np.isnan(y_train).sum() , np.isinf(y_train).sum() , np.isnan(y_test).sum() , np.isinf(y_test).sum() "
   ]
  },
  {
   "cell_type": "code",
   "execution_count": 58,
   "id": "3f6c2967",
   "metadata": {},
   "outputs": [],
   "source": [
    "# If NaNs are found in y_train, you can remove or impute:\n",
    "\n",
    "y_train = np.nan_to_num(y_train)"
   ]
  },
  {
   "cell_type": "code",
   "execution_count": 59,
   "id": "180ca457",
   "metadata": {},
   "outputs": [
    {
     "data": {
      "text/plain": [
       "0"
      ]
     },
     "execution_count": 59,
     "metadata": {},
     "output_type": "execute_result"
    }
   ],
   "source": [
    "np.isnan(y_train).sum()"
   ]
  },
  {
   "cell_type": "code",
   "execution_count": 60,
   "id": "a554e3e9",
   "metadata": {},
   "outputs": [],
   "source": [
    "# normalization or scaling\n",
    "\n",
    "scaler = StandardScaler()\n",
    "X_train_scaled = scaler.fit_transform(X_train)\n",
    "X_test_scaled = scaler.transform(X_test)"
   ]
  },
  {
   "cell_type": "code",
   "execution_count": 61,
   "id": "5f8ac955",
   "metadata": {},
   "outputs": [
    {
     "data": {
      "text/plain": [
       "(0, 0, 0, 0)"
      ]
     },
     "execution_count": 61,
     "metadata": {},
     "output_type": "execute_result"
    }
   ],
   "source": [
    "np.isnan(X_train_scaled).sum() , np.isinf(X_train_scaled).sum() , np.isnan(X_test_scaled).sum() , np.isinf(X_test_scaled).sum() "
   ]
  },
  {
   "cell_type": "code",
   "execution_count": 62,
   "id": "f36e421e",
   "metadata": {},
   "outputs": [
    {
     "data": {
      "text/plain": [
       "((1351, 6), (338, 6))"
      ]
     },
     "execution_count": 62,
     "metadata": {},
     "output_type": "execute_result"
    }
   ],
   "source": [
    "X_train.shape   , X_test.shape"
   ]
  },
  {
   "cell_type": "markdown",
   "id": "e5625c12",
   "metadata": {},
   "source": [
    "### Model Development and Evaluation"
   ]
  },
  {
   "cell_type": "code",
   "execution_count": 63,
   "id": "59d21418",
   "metadata": {},
   "outputs": [],
   "source": [
    "poly = PolynomialFeatures()\n",
    "X_train_poly = poly.fit_transform(X_train)\n",
    "X_test_poly = poly.transform(X_test)"
   ]
  },
  {
   "cell_type": "code",
   "execution_count": 64,
   "id": "b2d8a70c",
   "metadata": {},
   "outputs": [],
   "source": [
    "models = [\n",
    "    ( \"Linear Regression\" , \n",
    "       {\"n_jobs\":6 },\n",
    "       LinearRegression(),\n",
    "       (X_train_poly, y_train),\n",
    "       (X_test_poly, y_test)\n",
    "    ),\n",
    "\n",
    "    (\n",
    "        \"Random Forest Regressor\",\n",
    "        {'n_estimators':100, \"random_state\" : 42},\n",
    "        RandomForestRegressor(),\n",
    "        (X_train_scaled,y_train),\n",
    "        (X_test_scaled,y_test)\n",
    "    ),\n",
    "\n",
    "    (\n",
    "        \"XGB Regressor\",\n",
    "        {'n_estimators':100, \"random_state\" : 42},\n",
    "        XGBRegressor(),\n",
    "        (X_train_scaled,y_train),\n",
    "        (X_test_scaled,y_test)\n",
    "    ),\n",
    "\n",
    "    (\n",
    "        \"Lasso (L1 Regulization)\",\n",
    "        {\"alpha\": 0.01, \"random_state\" : 42},\n",
    "        Lasso(),\n",
    "        (X_train_scaled,y_train),\n",
    "        (X_test_scaled,y_test)\n",
    "    ),\n",
    "\n",
    "    (\n",
    "        \"Ridge (L2 Regulization)\",\n",
    "        {\"alpha\": 0.01, \"random_state\" : 42},\n",
    "        Ridge(),\n",
    "        (X_train_scaled,y_train),\n",
    "        (X_test_scaled,y_test)\n",
    "    )\n",
    "]"
   ]
  },
  {
   "cell_type": "code",
   "execution_count": 65,
   "id": "aac02700",
   "metadata": {},
   "outputs": [
    {
     "data": {
      "text/plain": [
       "[{'model': 'Linear Regression',\n",
       "  'mse': 179.4203896358438,\n",
       "  'r2_score': 0.9802233361899988},\n",
       " {'model': 'Random Forest Regressor',\n",
       "  'mse': 21.791421997093522,\n",
       "  'r2_score': 0.9975980342721745},\n",
       " {'model': 'XGB Regressor',\n",
       "  'mse': 50.808700458185314,\n",
       "  'r2_score': 0.9943995964470704},\n",
       " {'model': 'Lasso (L1 Regulization)',\n",
       "  'mse': 23.999010166366826,\n",
       "  'r2_score': 0.9973547022342536},\n",
       " {'model': 'Ridge (L2 Regulization)',\n",
       "  'mse': 18.591685916985277,\n",
       "  'r2_score': 0.9979507260975878}]"
      ]
     },
     "execution_count": 65,
     "metadata": {},
     "output_type": "execute_result"
    }
   ],
   "source": [
    "reports = []\n",
    "\n",
    "for model_name , model_params ,model, train_set ,test_set in models:\n",
    "    X_train1  = train_set[0]\n",
    "    y_train1 = train_set[1]\n",
    "    X_test1 = test_set[0]\n",
    "    y_test1 = test_set[1]\n",
    "\n",
    "    model.set_params(**model_params)\n",
    "\n",
    "    model.fit(X_train1 , y_train1)\n",
    "\n",
    "    y_pred_ml = model.predict(X_test1)\n",
    "    \n",
    "    mse = mean_squared_error(y_test1, y_pred_ml)\n",
    "    accuracy = r2_score(y_test1, y_pred_ml)\n",
    "    reports.append({\n",
    "        'model': model_name,\n",
    "        'mse': mse,\n",
    "        'r2_score': accuracy\n",
    "    })\n",
    "reports"
   ]
  },
  {
   "cell_type": "code",
   "execution_count": 70,
   "id": "bbb93387",
   "metadata": {},
   "outputs": [
    {
     "data": {
      "text/plain": [
       "50.808700458185314"
      ]
     },
     "execution_count": 70,
     "metadata": {},
     "output_type": "execute_result"
    }
   ],
   "source": [
    "reports[2]['mse']"
   ]
  },
  {
   "cell_type": "markdown",
   "id": "636c6e58",
   "metadata": {},
   "source": [
    "Among the three models, we have trained Ridge(L2) regularization  has the highest performance & with least MSE"
   ]
  },
  {
   "cell_type": "code",
   "execution_count": 66,
   "id": "9241a894",
   "metadata": {},
   "outputs": [],
   "source": [
    "import mlflow\n",
    "import mlflow.sklearn\n",
    "import mlflow.xgboost"
   ]
  },
  {
   "cell_type": "code",
   "execution_count": 93,
   "id": "465bd69b",
   "metadata": {},
   "outputs": [
    {
     "name": "stdout",
     "output_type": "stream",
     "text": [
      "0\n",
      "Linear Regression\n",
      "{'n_jobs': 6}\n",
      "LinearRegression(n_jobs=6)\n",
      "179.4203896358438\n",
      "\n",
      "1\n",
      "Random Forest Regressor\n",
      "{'n_estimators': 100, 'random_state': 42}\n",
      "RandomForestRegressor(random_state=42)\n",
      "21.791421997093522\n",
      "\n",
      "2\n",
      "XGB Regressor\n",
      "{'n_estimators': 100, 'random_state': 42}\n",
      "XGBRegressor(base_score=None, booster=None, callbacks=None,\n",
      "             colsample_bylevel=None, colsample_bynode=None,\n",
      "             colsample_bytree=None, device=None, early_stopping_rounds=None,\n",
      "             enable_categorical=False, eval_metric=None, feature_types=None,\n",
      "             feature_weights=None, gamma=None, grow_policy=None,\n",
      "             importance_type=None, interaction_constraints=None,\n",
      "             learning_rate=None, max_bin=None, max_cat_threshold=None,\n",
      "             max_cat_to_onehot=None, max_delta_step=None, max_depth=None,\n",
      "             max_leaves=None, min_child_weight=None, missing=nan,\n",
      "             monotone_constraints=None, multi_strategy=None, n_estimators=100,\n",
      "             n_jobs=None, num_parallel_tree=None, ...)\n",
      "50.808700458185314\n",
      "\n",
      "3\n",
      "Lasso (L1 Regulization)\n",
      "{'alpha': 0.01, 'random_state': 42}\n",
      "Lasso(alpha=0.01, random_state=42)\n",
      "23.999010166366826\n",
      "\n",
      "4\n",
      "Ridge (L2 Regulization)\n",
      "{'alpha': 0.01, 'random_state': 42}\n",
      "Ridge(alpha=0.01, random_state=42)\n",
      "18.591685916985277\n",
      "\n"
     ]
    }
   ],
   "source": [
    "for i, element in enumerate(models):\n",
    "    print(i)\n",
    "    print(element[0])\n",
    "    print(element[1])\n",
    "    print(element[2])\n",
    "    print(reports[i]['mse'])\n",
    "    print()"
   ]
  },
  {
   "cell_type": "markdown",
   "id": "96b53fd8",
   "metadata": {},
   "source": [
    "### Initialize MLflow"
   ]
  },
  {
   "cell_type": "code",
   "execution_count": null,
   "id": "ecf45cc9",
   "metadata": {},
   "outputs": [
    {
     "name": "stderr",
     "output_type": "stream",
     "text": [
      "2025/05/20 18:53:26 WARNING mlflow.models.model: Model logged without a signature and input example. Please set `input_example` parameter when logging the model to auto infer the model signature.\n"
     ]
    },
    {
     "name": "stdout",
     "output_type": "stream",
     "text": [
      "🏃 View run Linear Regression at: http://127.0.0.1:5000/#/experiments/107442711887276123/runs/3a014f48543d41e8b138d1dda9869bbc\n",
      "🧪 View experiment at: http://127.0.0.1:5000/#/experiments/107442711887276123\n"
     ]
    },
    {
     "name": "stderr",
     "output_type": "stream",
     "text": [
      "2025/05/20 18:53:32 WARNING mlflow.models.model: Model logged without a signature and input example. Please set `input_example` parameter when logging the model to auto infer the model signature.\n"
     ]
    },
    {
     "name": "stdout",
     "output_type": "stream",
     "text": [
      "🏃 View run Random Forest Regressor at: http://127.0.0.1:5000/#/experiments/107442711887276123/runs/8eac70c23e544229b558bc2dc1eafa6f\n",
      "🧪 View experiment at: http://127.0.0.1:5000/#/experiments/107442711887276123\n"
     ]
    },
    {
     "name": "stderr",
     "output_type": "stream",
     "text": [
      "2025/05/20 18:53:39 WARNING mlflow.models.model: Model logged without a signature and input example. Please set `input_example` parameter when logging the model to auto infer the model signature.\n"
     ]
    },
    {
     "name": "stdout",
     "output_type": "stream",
     "text": [
      "🏃 View run XGB Regressor at: http://127.0.0.1:5000/#/experiments/107442711887276123/runs/4413ee77f1614eb38516370b2623c4c5\n",
      "🧪 View experiment at: http://127.0.0.1:5000/#/experiments/107442711887276123\n"
     ]
    },
    {
     "name": "stderr",
     "output_type": "stream",
     "text": [
      "2025/05/20 18:53:47 WARNING mlflow.models.model: Model logged without a signature and input example. Please set `input_example` parameter when logging the model to auto infer the model signature.\n"
     ]
    },
    {
     "name": "stdout",
     "output_type": "stream",
     "text": [
      "🏃 View run Lasso (L1 Regulization) at: http://127.0.0.1:5000/#/experiments/107442711887276123/runs/ca3ee7f697f24b3fab1e55dc5dc965f2\n",
      "🧪 View experiment at: http://127.0.0.1:5000/#/experiments/107442711887276123\n"
     ]
    },
    {
     "name": "stderr",
     "output_type": "stream",
     "text": [
      "2025/05/20 18:53:53 WARNING mlflow.models.model: Model logged without a signature and input example. Please set `input_example` parameter when logging the model to auto infer the model signature.\n"
     ]
    },
    {
     "name": "stdout",
     "output_type": "stream",
     "text": [
      "🏃 View run Ridge (L2 Regulization) at: http://127.0.0.1:5000/#/experiments/107442711887276123/runs/63a2aef84e1140b4a949fd36ec8212fe\n",
      "🧪 View experiment at: http://127.0.0.1:5000/#/experiments/107442711887276123\n"
     ]
    }
   ],
   "source": [
    "mlflow.set_experiment(\"Stock_price_prediction_regression\")\n",
    "mlflow.set_tracking_uri(uri=\"http://127.0.0.1:5000/\")\n",
    "\n",
    "\n",
    "for i, element in enumerate(models):\n",
    "    model_name = element[0]\n",
    "    params = element[1]\n",
    "    model = element[2]\n",
    "    report = reports[i]\n",
    "\n",
    "    with mlflow.start_run(run_name=model_name):\n",
    "        mlflow.log_params(params)\n",
    "        mlflow.log_metrics({'MSE':report['mse'],\n",
    "                            'accuracy':report['r2_score']\n",
    "                          })\n",
    "    \n",
    "        if \"XGB Regressor\" in model_name:\n",
    "            mlflow.xgboost.log_model(model , \"Model\")\n",
    "        else:\n",
    "            mlflow.sklearn.log_model(model , \"Model\")"
   ]
  },
  {
   "cell_type": "markdown",
   "id": "efdf8cd4",
   "metadata": {},
   "source": [
    "### Register the model"
   ]
  },
  {
   "cell_type": "code",
   "execution_count": 97,
   "id": "622d0559",
   "metadata": {},
   "outputs": [
    {
     "name": "stderr",
     "output_type": "stream",
     "text": [
      "Registered model 'Ridge (L2 Regularization)' already exists. Creating a new version of this model...\n",
      "2025/05/20 19:07:08 INFO mlflow.store.model_registry.abstract_store: Waiting up to 300 seconds for model version to finish creation. Model name: Ridge (L2 Regularization), version 2\n"
     ]
    },
    {
     "name": "stdout",
     "output_type": "stream",
     "text": [
      "🏃 View run Ridge (L2 Regulization) at: http://127.0.0.1:5000/#/experiments/107442711887276123/runs/63a2aef84e1140b4a949fd36ec8212fe\n",
      "🧪 View experiment at: http://127.0.0.1:5000/#/experiments/107442711887276123\n"
     ]
    },
    {
     "name": "stderr",
     "output_type": "stream",
     "text": [
      "Created version '2' of model 'Ridge (L2 Regularization)'.\n"
     ]
    }
   ],
   "source": [
    "selected_model_name = \"Ridge (L2 Regularization)\"\n",
    "run_id = input(\"Enter runid\")\n",
    "model_uri = f'runs:/{run_id}/model'\n",
    "\n",
    "with mlflow.start_run(run_id=run_id):\n",
    "    mlflow.register_model(model_uri=model_uri , name=selected_model_name)"
   ]
  },
  {
   "cell_type": "markdown",
   "id": "9bbac5ef",
   "metadata": {},
   "source": [
    "### Load the Model & run it for prediction values"
   ]
  },
  {
   "cell_type": "code",
   "execution_count": 98,
   "id": "17bf5c36",
   "metadata": {},
   "outputs": [
    {
     "data": {
      "application/json": {
       "ascii": false,
       "bar_format": null,
       "colour": null,
       "elapsed": 0.0296175479888916,
       "initial": 0,
       "n": 0,
       "ncols": null,
       "nrows": null,
       "postfix": null,
       "prefix": "Downloading artifacts",
       "rate": null,
       "total": 5,
       "unit": "it",
       "unit_divisor": 1000,
       "unit_scale": false
      },
      "application/vnd.jupyter.widget-view+json": {
       "model_id": "defabbb419584cbd85a56ffa73adb4c0",
       "version_major": 2,
       "version_minor": 0
      },
      "text/plain": [
       "Downloading artifacts:   0%|          | 0/5 [00:00<?, ?it/s]"
      ]
     },
     "metadata": {},
     "output_type": "display_data"
    },
    {
     "data": {
      "text/plain": [
       "array([207.05447014, 218.99462214, 108.50629188, 183.57006918,\n",
       "       113.29870888])"
      ]
     },
     "execution_count": 98,
     "metadata": {},
     "output_type": "execute_result"
    }
   ],
   "source": [
    "import mlflow.sklearn\n",
    "\n",
    "\n",
    "model_name = \"Ridge (L2 Regularization)\"\n",
    "model_version = 2\n",
    "model_uri = f'models:/{model_name}/{model_version}'\n",
    "\n",
    "loaded_model = mlflow.sklearn.load_model(model_uri)\n",
    "y_pred = loaded_model.predict(X_test1)\n",
    "y_pred[:5]"
   ]
  }
 ],
 "metadata": {
  "kernelspec": {
   "display_name": "Python 3",
   "language": "python",
   "name": "python3"
  },
  "language_info": {
   "codemirror_mode": {
    "name": "ipython",
    "version": 3
   },
   "file_extension": ".py",
   "mimetype": "text/x-python",
   "name": "python",
   "nbconvert_exporter": "python",
   "pygments_lexer": "ipython3",
   "version": "3.10.5"
  }
 },
 "nbformat": 4,
 "nbformat_minor": 5
}
